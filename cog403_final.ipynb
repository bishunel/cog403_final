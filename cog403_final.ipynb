{
  "cells": [
    {
      "cell_type": "code",
      "execution_count": 1,
      "id": "343bc528",
      "metadata": {
        "id": "343bc528"
      },
      "outputs": [],
      "source": [
        "import tensorflow as tf\n",
        "import tensorflow_datasets as tfds\n",
        "import matplotlib\n",
        "import matplotlib.pyplot as plt\n",
        "import numpy as np\n",
        "tf.keras.utils.set_random_seed(812)"
      ]
    },
    {
      "cell_type": "code",
      "execution_count": null,
      "id": "9e790f14",
      "metadata": {
        "id": "9e790f14"
      },
      "outputs": [],
      "source": [
        "# Data import, cleaning\n",
        "\n",
        "# Taken in part from https://keras.io/examples/vision/mnist_convnet/ and\n",
        "# https://www.kaggle.com/code/amyjang/tensorflow-mnist-cnn-tutorial\n",
        "\n",
        "mnist = tf.keras.datasets.mnist\n",
        "(x_train, y_train), (x_test, y_test) = mnist.load_data()\n",
        "\n",
        "num_classes = 10\n",
        "input_shape = (28, 28, 1)\n",
        "print(x_train.shape[0])\n",
        "\n",
        "# Reshape data appropriately and scale to [0, 1] range\n",
        "x_train = x_train.reshape(x_train.shape[0], 28, 28, 1)\n",
        "x_test = x_test.reshape(x_test.shape[0], 28, 28, 1)\n",
        "\n",
        "x_train = x_train.astype(\"float32\") / 255\n",
        "x_test = x_test.astype(\"float32\") / 255\n",
        "\n",
        "# Convert class vectors to binary class matrices\n",
        "y_train = tf.keras.utils.to_categorical(y_train, num_classes)\n",
        "y_test = tf.keras.utils.to_categorical(y_test, num_classes)\n"
      ]
    },
    {
      "cell_type": "code",
      "execution_count": 10,
      "id": "81442640",
      "metadata": {
        "id": "81442640"
      },
      "outputs": [],
      "source": [
        "# Making and training model taken from: https://keras.io/examples/vision/mnist_convnet/\n",
        "model = tf.keras.Sequential()\n",
        "\n",
        "model.add(tf.keras.layers.Conv2D(6, (5, 5), activation=\"relu\"))\n",
        "model.add(tf.keras.layers.MaxPooling2D((2, 2), strides=(2, 2)))\n",
        "model.add(tf.keras.layers.Conv2D(12, (5, 5), activation=\"relu\"))\n",
        "model.add(tf.keras.layers.MaxPooling2D((2, 2), strides=(2, 2)))\n",
        "model.add(tf.keras.layers.Flatten())\n",
        "model.add(tf.keras.layers.Dropout(0.5))\n",
        "model.add(tf.keras.layers.Dense(num_classes, activation=\"softmax\"))\n",
        "\n",
        "batch_size = 128\n",
        "epochs = 5\n",
        "\n",
        "model.compile(loss=\"categorical_crossentropy\", optimizer=\"adam\", metrics=[\"accuracy\"])\n",
        "\n",
        "model.fit(x_train, y_train, batch_size=batch_size, epochs=epochs, validation_split=0.1)\n"
      ]
    },
    {
      "cell_type": "code",
      "execution_count": null,
      "id": "cc280d9e",
      "metadata": {
        "id": "cc280d9e"
      },
      "outputs": [],
      "source": [
        "# Evaluate model\n",
        "score = model.evaluate(x_test, y_test, verbose=0)\n",
        "print(\"Test loss:\", score[0])\n",
        "print(\"Test accuracy:\", score[1])\n",
        "\n",
        "# Print shape of model for use in report\n",
        "tf.keras.utils.plot_model(model, to_file='model_plot.png', show_shapes=True, show_layer_names=True)"
      ]
    },
    {
      "cell_type": "code",
      "execution_count": null,
      "id": "d28d8ad8",
      "metadata": {
        "id": "d28d8ad8"
      },
      "outputs": [],
      "source": [
        "# Plotting of fitlers taken in part from https://github.com/keras-team/keras/issues/6098\n",
        "# and this YouTube video https://www.youtube.com/watch?v=ho6JXE3EbZ8\n",
        "filters, biases = model.layers[0].get_weights()\n",
        "filters = filters.T\n",
        "\n",
        "fig = plt.figure()\n",
        "for j in range(len(filters)):\n",
        "    ax = fig.add_subplot(8, 8, j+1)\n",
        "    ax.matshow(filters[j][0], cmap=\"binary\")\n",
        "\n",
        "    plt.xticks(np.array([]))\n",
        "    plt.yticks(np.array([]))\n",
        "plt.tight_layout()\n"
      ]
    },
    {
      "cell_type": "code",
      "source": [
        "# Truncated model with only convolutional layers for modelling purposes\n",
        "conv_layer_index = [0, 2]\n",
        "\n",
        "outputs = [model.layers[i].output for i in conv_layer_index]\n",
        "model_short = tf.keras.Model(inputs = model.inputs, outputs=outputs)\n",
        "print(model_short.summary())"
      ],
      "metadata": {
        "id": "TkghbFyC6QUr"
      },
      "id": "TkghbFyC6QUr",
      "execution_count": null,
      "outputs": []
    },
    {
      "cell_type": "code",
      "source": [
        "# Use to print sample input for use in report\n",
        "from keras.preprocessing.image import load_img, img_to_array\n",
        "example_img = x_train[13]\n",
        "plt.imshow(example_img, cmap=\"binary\")\n",
        "example_img = img_to_array(example_img)\n",
        "example_img = np.expand_dims(example_img, axis=0)"
      ],
      "metadata": {
        "id": "sS6X5n17GDz5"
      },
      "id": "sS6X5n17GDz5",
      "execution_count": null,
      "outputs": []
    },
    {
      "cell_type": "code",
      "source": [
        "# Predict output on sample input\n",
        "feature_output = model_short.predict(example_img)"
      ],
      "metadata": {
        "id": "hg_NSYXWEcSN"
      },
      "id": "hg_NSYXWEcSN",
      "execution_count": null,
      "outputs": []
    },
    {
      "cell_type": "code",
      "source": [
        "# Plot first and second hidden layer activation on sample input, and edges\n",
        "# detected on first hideen layer activation via Canny edge detection\n",
        "import cv2 as cv\n",
        "col = 6\n",
        "row = 1\n",
        "for ftr in feature_output:\n",
        "  fig=plt.figure(figsize=(12, 12))\n",
        "  for i in range(1, col*row + 1):\n",
        "    fig = plt.subplot(row, col, i)\n",
        "    fig.set_xticks([])\n",
        "    fig.set_yticks([])\n",
        "    plt.imshow(ftr[0, :, :, i-1], cmap=\"gray\")\n",
        "\n",
        "  plt.show()\n",
        "\n",
        "for ftr in feature_output:\n",
        "  fig=plt.figure(figsize=(12, 12))\n",
        "  for i in range(1, col*row + 1):\n",
        "    fig = plt.subplot(row, col, i)\n",
        "    fig.set_xticks([])\n",
        "    fig.set_yticks([])\n",
        "    edge_array = np.array(ftr[0, :, :, i-1])\n",
        "    edge_array = edge_array*255/16\n",
        "    edge_array = edge_array.astype('uint8')\n",
        "    edges = cv.Canny(edge_array, 30, 40)\n",
        "    plt.imshow(edges, cmap=\"gray\")\n",
        "  plt.show()\n"
      ],
      "metadata": {
        "id": "NfE8JC_lG2wX"
      },
      "id": "NfE8JC_lG2wX",
      "execution_count": null,
      "outputs": []
    }
  ],
  "metadata": {
    "kernelspec": {
      "display_name": "Python 3",
      "name": "python3"
    },
    "language_info": {
      "codemirror_mode": {
        "name": "ipython",
        "version": 3
      },
      "file_extension": ".py",
      "mimetype": "text/x-python",
      "name": "python",
      "nbconvert_exporter": "python",
      "pygments_lexer": "ipython3",
      "version": "3.11.6"
    },
    "colab": {
      "provenance": [],
      "gpuType": "T4"
    },
    "accelerator": "GPU"
  },
  "nbformat": 4,
  "nbformat_minor": 5
}